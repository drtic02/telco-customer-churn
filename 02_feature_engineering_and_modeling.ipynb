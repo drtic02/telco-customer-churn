{
 "cells": [
  {
   "cell_type": "markdown",
   "id": "1ba7a33e",
   "metadata": {},
   "source": [
    "# Feature Engineering and Modeling\n",
    "\n",
    "This notebook handles the feature engineering, model training, and evaluation for the telco customer churn prediction project.\n",
    "\n",
    "**Objectives:**\n",
    "- Load the cleaned data\n",
    "- Prepare features for modeling\n",
    "- Train multiple classification models\n",
    "- Evaluate and compare model performance\n",
    "- Save the best performing model"
   ]
  },
  {
   "cell_type": "code",
   "execution_count": 1,
   "id": "ab83b970",
   "metadata": {},
   "outputs": [
    {
     "name": "stdout",
     "output_type": "stream",
     "text": [
      "Libraries imported successfully!\n"
     ]
    }
   ],
   "source": [
    "# Import necessary libraries\n",
    "import pandas as pd\n",
    "import numpy as np\n",
    "import matplotlib.pyplot as plt\n",
    "import seaborn as sns\n",
    "from sklearn.model_selection import train_test_split\n",
    "from sklearn.preprocessing import StandardScaler, OneHotEncoder\n",
    "from sklearn.compose import ColumnTransformer\n",
    "from sklearn.linear_model import LogisticRegression\n",
    "from sklearn.ensemble import RandomForestClassifier\n",
    "from xgboost import XGBClassifier\n",
    "from sklearn.metrics import classification_report, confusion_matrix\n",
    "import joblib\n",
    "import warnings\n",
    "warnings.filterwarnings('ignore')\n",
    "\n",
    "# Set random state for reproducibility\n",
    "RANDOM_STATE = 42\n",
    "TEST_SPLIT_SIZE = 0.2\n",
    "\n",
    "print(\"Libraries imported successfully!\")"
   ]
  },
  {
   "cell_type": "code",
   "execution_count": 2,
   "id": "088fdc89",
   "metadata": {},
   "outputs": [
    {
     "name": "stdout",
     "output_type": "stream",
     "text": [
      "Loaded data shape: (7043, 20)\n",
      "Target distribution:\n",
      "Churn\n",
      "No     5174\n",
      "Yes    1869\n",
      "Name: count, dtype: int64\n",
      "Target distribution (%):\n",
      "Churn\n",
      "No     73.463013\n",
      "Yes    26.536987\n",
      "Name: proportion, dtype: float64\n"
     ]
    }
   ],
   "source": [
    "# Load the processed data\n",
    "df = pd.read_csv('data/processed/churn_data_cleaned.csv')\n",
    "\n",
    "print(f\"Loaded data shape: {df.shape}\")\n",
    "print(f\"Target distribution:\")\n",
    "print(df['Churn'].value_counts())\n",
    "print(f\"Target distribution (%):\")\n",
    "print(df['Churn'].value_counts(normalize=True) * 100)"
   ]
  },
  {
   "cell_type": "code",
   "execution_count": 3,
   "id": "021c8db5",
   "metadata": {},
   "outputs": [
    {
     "name": "stdout",
     "output_type": "stream",
     "text": [
      "Features shape: (7043, 19)\n",
      "Target shape: (7043,)\n",
      "Target distribution after encoding:\n",
      "Churn\n",
      "0    5174\n",
      "1    1869\n",
      "Name: count, dtype: int64\n"
     ]
    }
   ],
   "source": [
    "# Feature/Target Separation\n",
    "y = df['Churn']  # Target variable\n",
    "X = df.drop('Churn', axis=1)  # Features\n",
    "\n",
    "# Target Encoding: Convert 'Yes'/'No' to 1/0\n",
    "y = y.map({'Yes': 1, 'No': 0})\n",
    "\n",
    "print(f\"Features shape: {X.shape}\")\n",
    "print(f\"Target shape: {y.shape}\")\n",
    "print(f\"Target distribution after encoding:\")\n",
    "print(y.value_counts())"
   ]
  },
  {
   "cell_type": "code",
   "execution_count": 4,
   "id": "49d7c192",
   "metadata": {},
   "outputs": [
    {
     "name": "stdout",
     "output_type": "stream",
     "text": [
      "Training set shape: (5634, 19)\n",
      "Test set shape: (1409, 19)\n",
      "Training target distribution:\n",
      "Churn\n",
      "0    4139\n",
      "1    1495\n",
      "Name: count, dtype: int64\n",
      "Test target distribution:\n",
      "Churn\n",
      "0    1035\n",
      "1     374\n",
      "Name: count, dtype: int64\n"
     ]
    }
   ],
   "source": [
    "# Data Splitting\n",
    "X_train, X_test, y_train, y_test = train_test_split(\n",
    "    X, y, \n",
    "    test_size=TEST_SPLIT_SIZE, \n",
    "    random_state=RANDOM_STATE, \n",
    "    stratify=y  # Maintain class distribution\n",
    ")\n",
    "\n",
    "print(f\"Training set shape: {X_train.shape}\")\n",
    "print(f\"Test set shape: {X_test.shape}\")\n",
    "print(f\"Training target distribution:\")\n",
    "print(y_train.value_counts())\n",
    "print(f\"Test target distribution:\")\n",
    "print(y_test.value_counts())"
   ]
  },
  {
   "cell_type": "code",
   "execution_count": 5,
   "id": "a9806993",
   "metadata": {},
   "outputs": [
    {
     "name": "stdout",
     "output_type": "stream",
     "text": [
      "Numerical features (4): ['SeniorCitizen', 'tenure', 'MonthlyCharges', 'TotalCharges']\n",
      "Categorical features (15): ['gender', 'Partner', 'Dependents', 'PhoneService', 'MultipleLines', 'InternetService', 'OnlineSecurity', 'OnlineBackup', 'DeviceProtection', 'TechSupport', 'StreamingTV', 'StreamingMovies', 'Contract', 'PaperlessBilling', 'PaymentMethod']\n",
      "Processed training data shape: (5634, 45)\n",
      "Processed test data shape: (1409, 45)\n"
     ]
    }
   ],
   "source": [
    "# Identify numerical and categorical features\n",
    "numerical_features = X_train.select_dtypes(include=['int64', 'float64']).columns.tolist()\n",
    "categorical_features = X_train.select_dtypes(include=['object']).columns.tolist()\n",
    "\n",
    "print(f\"Numerical features ({len(numerical_features)}): {numerical_features}\")\n",
    "print(f\"Categorical features ({len(categorical_features)}): {categorical_features}\")\n",
    "\n",
    "# Create preprocessing pipeline\n",
    "preprocessor = ColumnTransformer(\n",
    "    transformers=[\n",
    "        ('num', StandardScaler(), numerical_features),\n",
    "        ('cat', OneHotEncoder(handle_unknown='ignore'), categorical_features)\n",
    "    ]\n",
    ")\n",
    "\n",
    "# Fit and transform the data\n",
    "X_train_processed = preprocessor.fit_transform(X_train)\n",
    "X_test_processed = preprocessor.transform(X_test)\n",
    "\n",
    "print(f\"Processed training data shape: {X_train_processed.shape}\")\n",
    "print(f\"Processed test data shape: {X_test_processed.shape}\")"
   ]
  },
  {
   "cell_type": "code",
   "execution_count": 6,
   "id": "2ba3f95a",
   "metadata": {},
   "outputs": [
    {
     "name": "stdout",
     "output_type": "stream",
     "text": [
      "Training models...\n",
      "\n",
      "Training Logistic Regression...\n",
      "Logistic Regression training completed!\n",
      "\n",
      "Training Random Forest...\n",
      "Random Forest training completed!\n",
      "\n",
      "Training XGBoost...\n",
      "XGBoost training completed!\n"
     ]
    }
   ],
   "source": [
    "# Initialize models\n",
    "models = {\n",
    "    'Logistic Regression': LogisticRegression(random_state=RANDOM_STATE),\n",
    "    'Random Forest': RandomForestClassifier(random_state=RANDOM_STATE),\n",
    "    'XGBoost': XGBClassifier(random_state=RANDOM_STATE, use_label_encoder=False, eval_metric='logloss')\n",
    "}\n",
    "\n",
    "# Train models and store results\n",
    "trained_models = {}\n",
    "model_predictions = {}\n",
    "\n",
    "print(\"Training models...\")\n",
    "for name, model in models.items():\n",
    "    print(f\"\\nTraining {name}...\")\n",
    "    model.fit(X_train_processed, y_train)\n",
    "    trained_models[name] = model\n",
    "    \n",
    "    # Make predictions\n",
    "    y_pred = model.predict(X_test_processed)\n",
    "    model_predictions[name] = y_pred\n",
    "    \n",
    "    print(f\"{name} training completed!\")"
   ]
  },
  {
   "cell_type": "code",
   "execution_count": 7,
   "id": "b24d53c6",
   "metadata": {},
   "outputs": [
    {
     "name": "stdout",
     "output_type": "stream",
     "text": [
      "Model Evaluation Results:\n",
      "==================================================\n",
      "\n",
      "Logistic Regression Classification Report:\n",
      "              precision    recall  f1-score   support\n",
      "\n",
      "           0       0.85      0.89      0.87      1035\n",
      "           1       0.66      0.56      0.60       374\n",
      "\n",
      "    accuracy                           0.81      1409\n",
      "   macro avg       0.75      0.73      0.74      1409\n",
      "weighted avg       0.80      0.81      0.80      1409\n",
      "\n",
      "F1-Score for churn class: 0.6040\n",
      "\n",
      "Random Forest Classification Report:\n",
      "              precision    recall  f1-score   support\n",
      "\n",
      "           0       0.83      0.89      0.86      1035\n",
      "           1       0.63      0.49      0.55       374\n",
      "\n",
      "    accuracy                           0.79      1409\n",
      "   macro avg       0.73      0.69      0.70      1409\n",
      "weighted avg       0.77      0.79      0.78      1409\n",
      "\n",
      "F1-Score for churn class: 0.5474\n",
      "\n",
      "XGBoost Classification Report:\n",
      "              precision    recall  f1-score   support\n",
      "\n",
      "           0       0.83      0.87      0.85      1035\n",
      "           1       0.58      0.51      0.54       374\n",
      "\n",
      "    accuracy                           0.77      1409\n",
      "   macro avg       0.71      0.69      0.70      1409\n",
      "weighted avg       0.76      0.77      0.77      1409\n",
      "\n",
      "F1-Score for churn class: 0.5442\n",
      "\n",
      "Best Model: Logistic Regression with F1-Score: 0.6040\n"
     ]
    }
   ],
   "source": [
    "# Model Evaluation\n",
    "print(\"Model Evaluation Results:\")\n",
    "print(\"=\"*50)\n",
    "\n",
    "best_f1_score = 0\n",
    "best_model_name = \"\"\n",
    "best_model = None\n",
    "\n",
    "for name, y_pred in model_predictions.items():\n",
    "    print(f\"\\n{name} Classification Report:\")\n",
    "    report = classification_report(y_test, y_pred, output_dict=True)\n",
    "    print(classification_report(y_test, y_pred))\n",
    "    \n",
    "    # Get F1-score for positive class (1)\n",
    "    f1_score = report['1']['f1-score']\n",
    "    print(f\"F1-Score for churn class: {f1_score:.4f}\")\n",
    "    \n",
    "    # Track best model\n",
    "    if f1_score > best_f1_score:\n",
    "        best_f1_score = f1_score\n",
    "        best_model_name = name\n",
    "        best_model = trained_models[name]\n",
    "\n",
    "print(f\"\\nBest Model: {best_model_name} with F1-Score: {best_f1_score:.4f}\")"
   ]
  },
  {
   "cell_type": "code",
   "execution_count": 8,
   "id": "1248e784",
   "metadata": {},
   "outputs": [
    {
     "name": "stdout",
     "output_type": "stream",
     "text": [
      "\n",
      "Feature importance not available for Logistic Regression\n",
      "Feature importance is only available for tree-based models.\n"
     ]
    }
   ],
   "source": [
    "# Feature Importance Analysis\n",
    "if best_model_name in ['Random Forest', 'XGBoost']:\n",
    "    print(f\"\\nExtracting feature importance for {best_model_name}...\")\n",
    "    \n",
    "    # Get feature importance\n",
    "    importance = best_model.feature_importances_\n",
    "    \n",
    "    # Get feature names from preprocessor\n",
    "    # Numerical features keep their names\n",
    "    num_feature_names = numerical_features\n",
    "    \n",
    "    # Categorical features get encoded with OneHotEncoder\n",
    "    cat_feature_names = []\n",
    "    if len(categorical_features) > 0:\n",
    "        encoder = preprocessor.named_transformers_['cat']\n",
    "        cat_feature_names = encoder.get_feature_names_out(categorical_features).tolist()\n",
    "    \n",
    "    # Combine all feature names\n",
    "    all_feature_names = num_feature_names + cat_feature_names\n",
    "    \n",
    "    # Create feature importance dataframe\n",
    "    feature_importance_df = pd.DataFrame({\n",
    "        'feature': all_feature_names,\n",
    "        'importance': importance\n",
    "    }).sort_values('importance', ascending=False)\n",
    "    \n",
    "    # Plot top 15 features\n",
    "    plt.figure(figsize=(10, 8))\n",
    "    top_features = feature_importance_df.head(15)\n",
    "    plt.barh(range(len(top_features)), top_features['importance'])\n",
    "    plt.yticks(range(len(top_features)), top_features['feature'])\n",
    "    plt.xlabel('Feature Importance')\n",
    "    plt.title(f'Top 15 Feature Importance - {best_model_name}')\n",
    "    plt.gca().invert_yaxis()\n",
    "    plt.tight_layout()\n",
    "    plt.savefig('reports/figures/feature_importance.png', dpi=300, bbox_inches='tight')\n",
    "    plt.show()\n",
    "    \n",
    "    print(\"\\nTop 10 Most Important Features:\")\n",
    "    print(feature_importance_df.head(10))\n",
    "    \n",
    "else:\n",
    "    print(f\"\\nFeature importance not available for {best_model_name}\")\n",
    "    print(\"Feature importance is only available for tree-based models.\")"
   ]
  },
  {
   "cell_type": "code",
   "execution_count": 9,
   "id": "c7f97799",
   "metadata": {},
   "outputs": [
    {
     "name": "stdout",
     "output_type": "stream",
     "text": [
      "\n",
      "Generating feature importance using Random Forest model...\n"
     ]
    },
    {
     "data": {
      "image/png": "[encoded data removed]",
      "text/plain": [
       "<Figure size 1000x800 with 1 Axes>"
      ]
     },
     "metadata": {},
     "output_type": "display_data"
    },
    {
     "name": "stdout",
     "output_type": "stream",
     "text": [
      "\n",
      "Top 10 Most Important Features (Random Forest):\n",
      "                           feature  importance\n",
      "3                     TotalCharges    0.159723\n",
      "1                           tenure    0.139577\n",
      "2                   MonthlyCharges    0.137054\n",
      "36         Contract_Month-to-month    0.049974\n",
      "18               OnlineSecurity_No    0.032827\n",
      "43  PaymentMethod_Electronic check    0.031370\n",
      "16     InternetService_Fiber optic    0.028670\n",
      "27                  TechSupport_No    0.024004\n",
      "0                    SeniorCitizen    0.019575\n",
      "21                 OnlineBackup_No    0.019111\n"
     ]
    }
   ],
   "source": [
    "# Generate feature importance for Random Forest (for business insights)\n",
    "print(f\"\\nGenerating feature importance using Random Forest model...\")\n",
    "\n",
    "rf_model = trained_models['Random Forest']\n",
    "importance = rf_model.feature_importances_\n",
    "\n",
    "# Get feature names from preprocessor\n",
    "# Numerical features keep their names\n",
    "num_feature_names = numerical_features\n",
    "\n",
    "# Categorical features get encoded with OneHotEncoder\n",
    "cat_feature_names = []\n",
    "if len(categorical_features) > 0:\n",
    "    encoder = preprocessor.named_transformers_['cat']\n",
    "    cat_feature_names = encoder.get_feature_names_out(categorical_features).tolist()\n",
    "\n",
    "# Combine all feature names\n",
    "all_feature_names = num_feature_names + cat_feature_names\n",
    "\n",
    "# Create feature importance dataframe\n",
    "feature_importance_df = pd.DataFrame({\n",
    "    'feature': all_feature_names,\n",
    "    'importance': importance\n",
    "}).sort_values('importance', ascending=False)\n",
    "\n",
    "# Plot top 15 features\n",
    "plt.figure(figsize=(10, 8))\n",
    "top_features = feature_importance_df.head(15)\n",
    "plt.barh(range(len(top_features)), top_features['importance'])\n",
    "plt.yticks(range(len(top_features)), top_features['feature'])\n",
    "plt.xlabel('Feature Importance')\n",
    "plt.title(f'Top 15 Feature Importance - Random Forest Model (For Business Insights)')\n",
    "plt.gca().invert_yaxis()\n",
    "plt.tight_layout()\n",
    "plt.savefig('reports/figures/feature_importance.png', dpi=300, bbox_inches='tight')\n",
    "plt.show()\n",
    "\n",
    "print(\"\\nTop 10 Most Important Features (Random Forest):\")\n",
    "print(feature_importance_df.head(10))"
   ]
  },
  {
   "cell_type": "code",
   "execution_count": 10,
   "id": "5829a986",
   "metadata": {},
   "outputs": [
    {
     "name": "stdout",
     "output_type": "stream",
     "text": [
      "Best model (Logistic Regression) saved to: models/best_churn_model.pkl\n",
      "Model F1-Score: 0.6040\n",
      "Model package includes:\n",
      "- Trained model\n",
      "- Preprocessing pipeline\n",
      "- Model metadata\n"
     ]
    }
   ],
   "source": [
    "# Save the best model\n",
    "model_path = 'models/best_churn_model.pkl'\n",
    "\n",
    "# Create a model package that includes both the model and preprocessor\n",
    "model_package = {\n",
    "    'model': best_model,\n",
    "    'preprocessor': preprocessor,\n",
    "    'model_name': best_model_name,\n",
    "    'f1_score': best_f1_score,\n",
    "    'feature_names': {\n",
    "        'numerical': numerical_features,\n",
    "        'categorical': categorical_features\n",
    "    }\n",
    "}\n",
    "\n",
    "joblib.dump(model_package, model_path)\n",
    "\n",
    "print(f\"Best model ({best_model_name}) saved to: {model_path}\")\n",
    "print(f\"Model F1-Score: {best_f1_score:.4f}\")\n",
    "print(f\"Model package includes:\")\n",
    "print(\"- Trained model\")\n",
    "print(\"- Preprocessing pipeline\")\n",
    "print(\"- Model metadata\")"
   ]
  }
 ],
 "metadata": {
  "kernelspec": {
   "display_name": ".venv",
   "language": "python",
   "name": "python3"
  },
  "language_info": {
   "codemirror_mode": {
    "name": "ipython",
    "version": 3
   },
   "file_extension": ".py",
   "mimetype": "text/x-python",
   "name": "python",
   "nbconvert_exporter": "python",
   "pygments_lexer": "ipython3",
   "version": "3.12.2"
  }
 },
 "nbformat": 4,
 "nbformat_minor": 5
}
